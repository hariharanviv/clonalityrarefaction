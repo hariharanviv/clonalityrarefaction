{
 "cells": [
  {
   "cell_type": "code",
   "execution_count": null,
   "metadata": {
    "vscode": {
     "languageId": "r"
    }
   },
   "outputs": [],
   "source": [
    "if (!requireNamespace(\"BiocManager\", quietly = TRUE))\n",
    "    install.packages(\"BiocManager\")\n",
    "BiocManager::install(\"Biostrings\")\n",
    "\n",
    "library(Biostrings)\n",
    "library(ggplot2)"
   ]
  },
  {
   "cell_type": "code",
   "execution_count": 2,
   "metadata": {
    "vscode": {
     "languageId": "r"
    }
   },
   "outputs": [],
   "source": [
    "rarefaction_curve <- function(fasta_file, num_repeats) {\n",
    "  sequences <- readDNAStringSet(fasta_file)\n",
    "  num_sequences <- length(sequences)\n",
    "  all_unique_counts <- matrix(0, nrow = num_repeats, ncol = num_sequences)\n",
    "\n",
    "  for (repeat_idx in 1:num_repeats) {\n",
    "  set.seed(repeat_idx)  \n",
    "  randomized_seq <- sample(sequences)\n",
    "\n",
    "  unique_sequences <- character(0)\n",
    "  for (i in seq_along(randomized_seq)) {\n",
    "    unique_sequences <- unique(c(unique_sequences, as.character(randomized_seq[i])))\n",
    "    all_unique_counts[repeat_idx, i] <- length(unique_sequences)\n",
    "  }\n",
    "  }\n",
    "\n",
    "  average_unique_counts <- colMeans(all_unique_counts)\n",
    "  std_dev_unique_counts <- apply(all_unique_counts, 2, sd) \n",
    "  \n",
    "  rarefaction_data <- data.frame(\n",
    "  num_sequences_analyzed = 1:num_sequences,\n",
    "  num_unique_sequences = average_unique_counts,\n",
    "  lower_bound = average_unique_counts - std_dev_unique_counts,\n",
    "  upper_bound = average_unique_counts + std_dev_unique_counts\n",
    "  )\n",
    "  \n",
    "  rarefaction_data$slope <- c(NA, diff(rarefaction_data$num_unique_sequences) / diff(rarefaction_data$num_sequences_analyzed))\n",
    "  \n",
    "  max_value <- max(c(rarefaction_data$num_sequences_analyzed, rarefaction_data$num_unique_sequences))\n",
    "\n",
    "  p1 <- ggplot(rarefaction_data, aes(x = num_sequences_analyzed, y = num_unique_sequences)) +\n",
    "  geom_line() +\n",
    "  geom_ribbon(aes(ymin = lower_bound, ymax = upper_bound), alpha = 0.2) +\n",
    "  geom_abline(slope = 1, intercept = 0, linetype = \"dashed\", color = \"red\") +\n",
    "  labs(\n",
    "    title = \"Rarefaction Curve on proviral sequences\",\n",
    "    x = \"Number of Sequences Analyzed\",\n",
    "    y = \"Number of Unique Sequences\"\n",
    "  ) +\n",
    "  theme_bw() +\n",
    "  theme(axis.text = element_text(size = 14), axis.title = element_text(size = 14)) +\n",
    "  coord_equal() +\n",
    "  xlim(0, max_value) +\n",
    "  ylim(0, max_value)\n",
    "\n",
    "  p2 <- ggplot(rarefaction_data, aes(x = num_sequences_analyzed, y = slope)) +\n",
    "  geom_line() +\n",
    "  labs(\n",
    "    title = \"Rarefaction Slope on proviral sequences\",\n",
    "    x = \"Number of Sequences Analyzed\",\n",
    "    y = \"Slope\"\n",
    "  ) +\n",
    "  theme_bw() +\n",
    "  theme(axis.text = element_text(size = 14), axis.title = element_text(size = 14)) +\n",
    "  ylim(0, 1) +\n",
    "  xlim(0, max_value)\n",
    "\n",
    "  combined_plot <- grid.arrange(p1, p2, ncol = 2)\n",
    "  ggsave(\"rarefaction_curve.png\", plot = combined_plot, width = 20, height = 10, units = \"in\", dpi = 300)\n",
    "\n",
    "}"
   ]
  },
  {
   "cell_type": "code",
   "execution_count": null,
   "metadata": {
    "vscode": {
     "languageId": "r"
    }
   },
   "outputs": [],
   "source": [
    "fasta_file <- #Insert FASTA here (e.g. \"sequences.fasta\") \n",
    "num_repeats <- 1000\n",
    "rarefaction_curve(fasta_file, num_repeats)"
   ]
  }
 ],
 "metadata": {
  "kernelspec": {
   "display_name": "R",
   "language": "R",
   "name": "ir"
  },
  "language_info": {
   "codemirror_mode": "r",
   "file_extension": ".r",
   "mimetype": "text/x-r-source",
   "name": "R",
   "pygments_lexer": "r",
   "version": "4.3.1"
  }
 },
 "nbformat": 4,
 "nbformat_minor": 2
}
